{
 "cells": [
  {
   "cell_type": "code",
   "execution_count": 1,
   "metadata": {
    "ExecuteTime": {
     "end_time": "2019-08-03T20:53:07.517632Z",
     "start_time": "2019-08-03T20:53:05.205847Z"
    },
    "collapsed": true
   },
   "outputs": [],
   "source": [
    "\"\"\"\n",
    "Created on Sun Oct 25 2018\n",
    "@author: Kimin Lee\n",
    "\"\"\"\n",
    "from __future__ import print_function\n",
    "import numpy as np\n",
    "import os\n",
    "import lib_regression\n",
    "from sklearn.metrics import roc_auc_score\n",
    "# import argparse\n",
    "\n",
    "from sklearn.linear_model import LogisticRegressionCV"
   ]
  },
  {
   "cell_type": "code",
   "execution_count": 3,
   "metadata": {
    "ExecuteTime": {
     "end_time": "2019-08-03T20:53:07.972956Z",
     "start_time": "2019-08-03T20:53:07.965456Z"
    }
   },
   "outputs": [
    {
     "name": "stdout",
     "output_type": "stream",
     "text": [
      "evaluate the LID estimator\n"
     ]
    }
   ],
   "source": [
    "net_type = 'resnet'\n",
    "print('evaluate the LID estimator')\n",
    "score_list = ['LID_10', 'LID_20', 'LID_30', 'LID_40', 'LID_50', 'LID_60', 'LID_70', 'LID_80', 'LID_90']\n",
    "dataset = 'cifar10'\n",
    "outf = './adv_output2/' + net_type + '_' + dataset + '/'\n",
    "out = 'FGSM'"
   ]
  },
  {
   "cell_type": "code",
   "execution_count": 8,
   "metadata": {
    "ExecuteTime": {
     "end_time": "2019-08-03T20:54:41.048385Z",
     "start_time": "2019-08-03T20:54:41.030048Z"
    },
    "collapsed": true
   },
   "outputs": [],
   "source": [
    "def load_characteristics(file_name):\n",
    "    \"\"\"\n",
    "    Load the calculated scores\n",
    "    return: data and label of input score\n",
    "    \"\"\"\n",
    "    X, Y = None, None\n",
    "    \n",
    "    data = np.load(file_name)\n",
    "    \n",
    "    if X is None:\n",
    "        X = data[:, :-1]\n",
    "    else:\n",
    "        X = np.concatenate((X, data[:, :-1]), axis=1)\n",
    "    if Y is None:\n",
    "        Y = data[:, -1] # labels only need to load once\n",
    "         \n",
    "    return X, Y"
   ]
  },
  {
   "cell_type": "markdown",
   "metadata": {},
   "source": [
    "# LID"
   ]
  },
  {
   "cell_type": "markdown",
   "metadata": {},
   "source": [
    "## Unsupervised - hyperparameters grid search"
   ]
  },
  {
   "cell_type": "code",
   "execution_count": 30,
   "metadata": {
    "ExecuteTime": {
     "end_time": "2019-08-03T21:23:17.907348Z",
     "start_time": "2019-08-03T21:23:17.599333Z"
    }
   },
   "outputs": [
    {
     "name": "stdout",
     "output_type": "stream",
     "text": [
      "LID_10 - 0 - FGSM auc:0.8137, PGD auc:0.8033, CW auc:0.6574\n",
      "LID_10 - 1 - FGSM auc:0.9997, PGD auc:0.9645, CW auc:0.6523\n",
      "LID_10 - 2 - FGSM auc:0.9984, PGD auc:0.9040, CW auc:0.6371\n",
      "LID_10 - 3 - FGSM auc:0.9492, PGD auc:0.8838, CW auc:0.7406\n",
      "LID_20 - 0 - FGSM auc:0.7543, PGD auc:0.7453, CW auc:0.6122\n",
      "LID_20 - 1 - FGSM auc:1.0000, PGD auc:0.9876, CW auc:0.6179\n",
      "LID_20 - 2 - FGSM auc:0.9999, PGD auc:0.9458, CW auc:0.6047\n",
      "LID_20 - 3 - FGSM auc:0.9808, PGD auc:0.9287, CW auc:0.7343\n",
      "LID_30 - 0 - FGSM auc:0.7080, PGD auc:0.7030, CW auc:0.5832\n",
      "LID_30 - 1 - FGSM auc:1.0000, PGD auc:0.9924, CW auc:0.6022\n",
      "LID_30 - 2 - FGSM auc:1.0000, PGD auc:0.9722, CW auc:0.5780\n",
      "LID_30 - 3 - FGSM auc:0.9933, PGD auc:0.9457, CW auc:0.6855\n",
      "LID_40 - 0 - FGSM auc:0.6670, PGD auc:0.6663, CW auc:0.5657\n",
      "LID_40 - 1 - FGSM auc:1.0000, PGD auc:0.9941, CW auc:0.5798\n",
      "LID_40 - 2 - FGSM auc:0.9999, PGD auc:0.9777, CW auc:0.5737\n",
      "LID_40 - 3 - FGSM auc:0.9958, PGD auc:0.9484, CW auc:0.6281\n",
      "LID_50 - 0 - FGSM auc:0.6401, PGD auc:0.6431, CW auc:0.5513\n",
      "LID_50 - 1 - FGSM auc:1.0000, PGD auc:0.9937, CW auc:0.5745\n",
      "LID_50 - 2 - FGSM auc:1.0000, PGD auc:0.9830, CW auc:0.5607\n",
      "LID_50 - 3 - FGSM auc:0.9948, PGD auc:0.9360, CW auc:0.5690\n",
      "LID_60 - 0 - FGSM auc:0.6172, PGD auc:0.6205, CW auc:0.5347\n",
      "LID_60 - 1 - FGSM auc:1.0000, PGD auc:0.9923, CW auc:0.5614\n",
      "LID_60 - 2 - FGSM auc:1.0000, PGD auc:0.9827, CW auc:0.5517\n",
      "LID_60 - 3 - FGSM auc:0.9914, PGD auc:0.9181, CW auc:0.5167\n",
      "LID_70 - 0 - FGSM auc:0.6029, PGD auc:0.6092, CW auc:0.5314\n",
      "LID_70 - 1 - FGSM auc:0.9999, PGD auc:0.9901, CW auc:0.5461\n",
      "LID_70 - 2 - FGSM auc:1.0000, PGD auc:0.9827, CW auc:0.5474\n",
      "LID_70 - 3 - FGSM auc:0.9843, PGD auc:0.8935, CW auc:0.4721\n",
      "LID_80 - 0 - FGSM auc:0.5915, PGD auc:0.5960, CW auc:0.5256\n",
      "LID_80 - 1 - FGSM auc:0.9999, PGD auc:0.9880, CW auc:0.5301\n",
      "LID_80 - 2 - FGSM auc:1.0000, PGD auc:0.9795, CW auc:0.5411\n",
      "LID_80 - 3 - FGSM auc:0.9657, PGD auc:0.8508, CW auc:0.4346\n",
      "LID_90 - 0 - FGSM auc:0.5782, PGD auc:0.5764, CW auc:0.5148\n",
      "LID_90 - 1 - FGSM auc:0.9999, PGD auc:0.9865, CW auc:0.5187\n",
      "LID_90 - 2 - FGSM auc:0.9999, PGD auc:0.9769, CW auc:0.5367\n",
      "LID_90 - 3 - FGSM auc:0.9069, PGD auc:0.7893, CW auc:0.4099\n"
     ]
    }
   ],
   "source": [
    "for score in score_list:\n",
    "    for i in range(4):\n",
    "        X_FGSM, y_FGSM = load_characteristics('./adv_output2/resnet_cifar10/%s_FGSM_data.npy' %score)\n",
    "        FGSM_auc = roc_auc_score(y_FGSM,X_FGSM[:,i])\n",
    "\n",
    "        X_PGD, y_PGD = load_characteristics('./adv_output2/resnet_cifar10/%s_PGD_data.npy' %score)\n",
    "        PGD_auc = roc_auc_score(y_PGD,X_PGD[:,i])\n",
    "\n",
    "        X_CW, y_CW = load_characteristics('./adv_output2/resnet_cifar10/%s_CW_data.npy' %score)\n",
    "        CW_auc = roc_auc_score(y_CW,X_CW[:,i])\n",
    "\n",
    "        print('%s - %d - FGSM auc:%0.4f, PGD auc:%0.4f, CW auc:%0.4f' \n",
    "              %(score, i, FGSM_auc, PGD_auc, CW_auc))"
   ]
  },
  {
   "cell_type": "markdown",
   "metadata": {},
   "source": [
    "## Supervised - Hyperparameters grid search"
   ]
  },
  {
   "cell_type": "code",
   "execution_count": 19,
   "metadata": {
    "ExecuteTime": {
     "end_time": "2019-08-03T21:10:11.807384Z",
     "start_time": "2019-08-03T21:10:06.225292Z"
    }
   },
   "outputs": [
    {
     "name": "stdout",
     "output_type": "stream",
     "text": [
      "LID_10 - Original auc:0.9994, FGSM auc:1.0000, PGD auc:0.9728, CW auc:0.7112\n",
      "LID_20 - Original auc:1.0000, FGSM auc:1.0000, PGD auc:0.9882, CW auc:0.6472\n",
      "LID_30 - Original auc:1.0000, FGSM auc:1.0000, PGD auc:0.9952, CW auc:0.6473\n",
      "LID_40 - Original auc:1.0000, FGSM auc:1.0000, PGD auc:0.9950, CW auc:0.6197\n",
      "LID_50 - Original auc:1.0000, FGSM auc:1.0000, PGD auc:0.9949, CW auc:0.5914\n",
      "LID_60 - Original auc:1.0000, FGSM auc:1.0000, PGD auc:0.9941, CW auc:0.5654\n",
      "LID_70 - Original auc:1.0000, FGSM auc:1.0000, PGD auc:0.9933, CW auc:0.5405\n",
      "LID_80 - Original auc:1.0000, FGSM auc:1.0000, PGD auc:0.9913, CW auc:0.5152\n",
      "LID_90 - Original auc:1.0000, FGSM auc:1.0000, PGD auc:0.9888, CW auc:0.5020\n"
     ]
    }
   ],
   "source": [
    "for score in score_list:\n",
    "    total_X, total_Y = lib_regression.load_characteristics(score, dataset, out, outf)\n",
    "    X_val, Y_val, X_test, Y_test = lib_regression.block_split_adv(total_X, total_Y)\n",
    "    pivot = int(X_val.shape[0] / 6)\n",
    "    X_train = np.concatenate((X_val[:pivot], X_val[2*pivot:3*pivot], X_val[4*pivot:5*pivot]))\n",
    "    Y_train = np.concatenate((Y_val[:pivot], Y_val[2*pivot:3*pivot], Y_val[4*pivot:5*pivot]))\n",
    "    X_val_for_test = np.concatenate((X_val[pivot:2*pivot], X_val[3*pivot:4*pivot], X_val[5*pivot:]))\n",
    "    Y_val_for_test = np.concatenate((Y_val[pivot:2*pivot], Y_val[3*pivot:4*pivot], Y_val[5*pivot:]))\n",
    "    lr = LogisticRegressionCV(n_jobs=-1).fit(X_train, Y_train)\n",
    "    \n",
    "    y_pred = lr.predict_proba(X_val_for_test)[:, 1]\n",
    "    results = lib_regression.detection_performance(lr, X_val_for_test, Y_val_for_test, outf)\n",
    "    \n",
    "    X_FGSM, y_FGSM = load_characteristics('./adv_output2/resnet_cifar10/%s_FGSM_data.npy' %score)\n",
    "    results_FGSM = lib_regression.detection_performance(lr, X_FGSM, y_FGSM, outf)\n",
    "    \n",
    "    X_PGD, y_PGD = load_characteristics('./adv_output2/resnet_cifar10/%s_PGD_data.npy' %score)\n",
    "    results_PGD = lib_regression.detection_performance(lr, X_PGD, y_PGD, outf)\n",
    "    \n",
    "    X_CW, y_CW = load_characteristics('./adv_output2/resnet_cifar10/%s_CW_data.npy' %score)\n",
    "    results_CW = lib_regression.detection_performance(lr, X_CW, y_CW, outf)\n",
    "    print('%s - Original auc:%0.4f, FGSM auc:%0.4f, PGD auc:%0.4f, CW auc:%0.4f' \n",
    "          %(score, results['TMP']['AUROC'], results_FGSM['TMP']['AUROC'], results_PGD['TMP']['AUROC'], \n",
    "            results_CW['TMP']['AUROC']))"
   ]
  },
  {
   "cell_type": "markdown",
   "metadata": {
    "ExecuteTime": {
     "end_time": "2019-08-02T14:02:19.107474Z",
     "start_time": "2019-08-02T14:02:19.104244Z"
    }
   },
   "source": [
    "# Mahalanobis"
   ]
  },
  {
   "cell_type": "code",
   "execution_count": 33,
   "metadata": {
    "ExecuteTime": {
     "end_time": "2019-08-03T21:30:35.332564Z",
     "start_time": "2019-08-03T21:30:35.327194Z"
    }
   },
   "outputs": [
    {
     "name": "stdout",
     "output_type": "stream",
     "text": [
      "evaluate the Mahalanobis estimator\n"
     ]
    }
   ],
   "source": [
    "print('evaluate the Mahalanobis estimator')\n",
    "mahalanbis_score_list = ['Mahalanobis_0.0', 'Mahalanobis_0.01', 'Mahalanobis_0.005', \\\n",
    "              'Mahalanobis_0.002', 'Mahalanobis_0.0014', 'Mahalanobis_0.001', 'Mahalanobis_0.0005']"
   ]
  },
  {
   "cell_type": "code",
   "execution_count": 34,
   "metadata": {
    "ExecuteTime": {
     "end_time": "2019-08-03T21:30:36.246919Z",
     "start_time": "2019-08-03T21:30:35.995487Z"
    }
   },
   "outputs": [
    {
     "name": "stdout",
     "output_type": "stream",
     "text": [
      "Mahalanobis_0.0 - 0 - FGSM auc:0.0989, PGD auc:0.1723, CW auc:0.5265\n",
      "Mahalanobis_0.0 - 1 - FGSM auc:0.0000, PGD auc:0.0016, CW auc:0.5381\n",
      "Mahalanobis_0.0 - 2 - FGSM auc:0.0000, PGD auc:0.0003, CW auc:0.5678\n",
      "Mahalanobis_0.0 - 3 - FGSM auc:0.0000, PGD auc:0.0000, CW auc:0.6139\n",
      "Mahalanobis_0.01 - 0 - FGSM auc:0.1643, PGD auc:0.4384, CW auc:0.5278\n",
      "Mahalanobis_0.01 - 1 - FGSM auc:0.0000, PGD auc:0.7450, CW auc:0.4658\n",
      "Mahalanobis_0.01 - 2 - FGSM auc:0.0012, PGD auc:0.5182, CW auc:0.4655\n",
      "Mahalanobis_0.01 - 3 - FGSM auc:0.0000, PGD auc:0.3064, CW auc:0.4921\n",
      "Mahalanobis_0.005 - 0 - FGSM auc:0.1404, PGD auc:0.2738, CW auc:0.5295\n",
      "Mahalanobis_0.005 - 1 - FGSM auc:0.0000, PGD auc:0.0338, CW auc:0.4752\n",
      "Mahalanobis_0.005 - 2 - FGSM auc:0.0000, PGD auc:0.2006, CW auc:0.4694\n",
      "Mahalanobis_0.005 - 3 - FGSM auc:0.0000, PGD auc:0.0296, CW auc:0.5179\n",
      "Mahalanobis_0.002 - 0 - FGSM auc:0.1192, PGD auc:0.1949, CW auc:0.5270\n",
      "Mahalanobis_0.002 - 1 - FGSM auc:0.0000, PGD auc:0.0024, CW auc:0.5023\n",
      "Mahalanobis_0.002 - 2 - FGSM auc:0.0000, PGD auc:0.0170, CW auc:0.4845\n",
      "Mahalanobis_0.002 - 3 - FGSM auc:0.0000, PGD auc:0.0000, CW auc:0.5715\n",
      "Mahalanobis_0.0014 - 0 - FGSM auc:0.1107, PGD auc:0.1825, CW auc:0.5271\n",
      "Mahalanobis_0.0014 - 1 - FGSM auc:0.0000, PGD auc:0.0020, CW auc:0.5177\n",
      "Mahalanobis_0.0014 - 2 - FGSM auc:0.0000, PGD auc:0.0045, CW auc:0.4988\n",
      "Mahalanobis_0.0014 - 3 - FGSM auc:0.0000, PGD auc:0.0000, CW auc:0.5893\n",
      "Mahalanobis_0.001 - 0 - FGSM auc:0.1019, PGD auc:0.1774, CW auc:0.5284\n",
      "Mahalanobis_0.001 - 1 - FGSM auc:0.0000, PGD auc:0.0019, CW auc:0.5286\n",
      "Mahalanobis_0.001 - 2 - FGSM auc:0.0000, PGD auc:0.0009, CW auc:0.5165\n",
      "Mahalanobis_0.001 - 3 - FGSM auc:0.0000, PGD auc:0.0000, CW auc:0.6022\n",
      "Mahalanobis_0.0005 - 0 - FGSM auc:0.1114, PGD auc:0.1718, CW auc:0.5273\n",
      "Mahalanobis_0.0005 - 1 - FGSM auc:0.0000, PGD auc:0.0017, CW auc:0.5383\n",
      "Mahalanobis_0.0005 - 2 - FGSM auc:0.0000, PGD auc:0.0003, CW auc:0.5483\n",
      "Mahalanobis_0.0005 - 3 - FGSM auc:0.0000, PGD auc:0.0000, CW auc:0.6117\n"
     ]
    }
   ],
   "source": [
    "for score in mahalanbis_score_list:\n",
    "    for i in range(4):\n",
    "        X_FGSM, y_FGSM = load_characteristics('./adv_output2/resnet_cifar10/%s_FGSM_data.npy' %score)\n",
    "        FGSM_auc = roc_auc_score(y_FGSM,X_FGSM[:,i])\n",
    "\n",
    "        X_PGD, y_PGD = load_characteristics('./adv_output2/resnet_cifar10/%s_PGD_data.npy' %score)\n",
    "        PGD_auc = roc_auc_score(y_PGD,X_PGD[:,i])\n",
    "\n",
    "        X_CW, y_CW = load_characteristics('./adv_output2/resnet_cifar10/%s_CW_data.npy' %score)\n",
    "        CW_auc = roc_auc_score(y_CW,X_CW[:,i])\n",
    "\n",
    "        print('%s - %d - FGSM auc:%0.4f, PGD auc:%0.4f, CW auc:%0.4f' \n",
    "              %(score, i, FGSM_auc, PGD_auc, CW_auc))"
   ]
  },
  {
   "cell_type": "code",
   "execution_count": 35,
   "metadata": {
    "ExecuteTime": {
     "end_time": "2019-08-03T21:31:46.047870Z",
     "start_time": "2019-08-03T21:31:41.645466Z"
    }
   },
   "outputs": [
    {
     "name": "stdout",
     "output_type": "stream",
     "text": [
      "Mahalanobis_0.0 - Original auc:1.0000, FGSM auc:1.0000, PGD auc:0.9991, CW auc:0.4257\n",
      "Mahalanobis_0.01 - Original auc:1.0000, FGSM auc:0.9996, PGD auc:0.3380, CW auc:0.5330\n",
      "Mahalanobis_0.005 - Original auc:1.0000, FGSM auc:1.0000, PGD auc:0.9025, CW auc:0.5276\n",
      "Mahalanobis_0.002 - Original auc:1.0000, FGSM auc:1.0000, PGD auc:0.9953, CW auc:0.5021\n",
      "Mahalanobis_0.0014 - Original auc:1.0000, FGSM auc:1.0000, PGD auc:0.9980, CW auc:0.4841\n",
      "Mahalanobis_0.001 - Original auc:1.0000, FGSM auc:1.0000, PGD auc:0.9987, CW auc:0.4657\n",
      "Mahalanobis_0.0005 - Original auc:1.0000, FGSM auc:1.0000, PGD auc:0.9991, CW auc:0.4383\n"
     ]
    }
   ],
   "source": [
    "for score in mahalanbis_score_list:\n",
    "    total_X, total_Y = lib_regression.load_characteristics(score, dataset, out, outf)\n",
    "    X_val, Y_val, X_test, Y_test = lib_regression.block_split_adv(total_X, total_Y)\n",
    "    pivot = int(X_val.shape[0] / 6)\n",
    "    X_train = np.concatenate((X_val[:pivot], X_val[2*pivot:3*pivot], X_val[4*pivot:5*pivot]))\n",
    "    Y_train = np.concatenate((Y_val[:pivot], Y_val[2*pivot:3*pivot], Y_val[4*pivot:5*pivot]))\n",
    "    X_val_for_test = np.concatenate((X_val[pivot:2*pivot], X_val[3*pivot:4*pivot], X_val[5*pivot:]))\n",
    "    Y_val_for_test = np.concatenate((Y_val[pivot:2*pivot], Y_val[3*pivot:4*pivot], Y_val[5*pivot:]))\n",
    "    lr = LogisticRegressionCV(n_jobs=-1).fit(X_train, Y_train)\n",
    "    \n",
    "    y_pred = lr.predict_proba(X_val_for_test)[:, 1]\n",
    "    results = lib_regression.detection_performance(lr, X_val_for_test, Y_val_for_test, outf)\n",
    "    \n",
    "    X_FGSM, y_FGSM = load_characteristics('./adv_output2/resnet_cifar10/%s_FGSM_data.npy' %score)\n",
    "    results_FGSM = lib_regression.detection_performance(lr, X_FGSM, y_FGSM, outf)\n",
    "    \n",
    "    X_PGD, y_PGD = load_characteristics('./adv_output2/resnet_cifar10/%s_PGD_data.npy' %score)\n",
    "    results_PGD = lib_regression.detection_performance(lr, X_PGD, y_PGD, outf)\n",
    "    \n",
    "    X_CW, y_CW = load_characteristics('./adv_output2/resnet_cifar10/%s_CW_data.npy' %score)\n",
    "    results_CW = lib_regression.detection_performance(lr, X_CW, y_CW, outf)\n",
    "    print('%s - Original auc:%0.4f, FGSM auc:%0.4f, PGD auc:%0.4f, CW auc:%0.4f' \n",
    "          %(score, results['TMP']['AUROC'], results_FGSM['TMP']['AUROC'], results_PGD['TMP']['AUROC'], \n",
    "            results_CW['TMP']['AUROC']))"
   ]
  },
  {
   "cell_type": "code",
   "execution_count": null,
   "metadata": {
    "collapsed": true
   },
   "outputs": [],
   "source": []
  },
  {
   "cell_type": "code",
   "execution_count": null,
   "metadata": {
    "collapsed": true
   },
   "outputs": [],
   "source": []
  },
  {
   "cell_type": "code",
   "execution_count": null,
   "metadata": {
    "collapsed": true
   },
   "outputs": [],
   "source": []
  },
  {
   "cell_type": "code",
   "execution_count": null,
   "metadata": {
    "collapsed": true
   },
   "outputs": [],
   "source": []
  },
  {
   "cell_type": "code",
   "execution_count": null,
   "metadata": {
    "collapsed": true
   },
   "outputs": [],
   "source": []
  },
  {
   "cell_type": "code",
   "execution_count": 19,
   "metadata": {
    "ExecuteTime": {
     "end_time": "2019-08-02T14:32:18.513172Z",
     "start_time": "2019-08-02T14:32:17.893323Z"
    }
   },
   "outputs": [
    {
     "name": "stdout",
     "output_type": "stream",
     "text": [
      "load train data:  FGSM  of  Mahalanobis_0.001\n"
     ]
    }
   ],
   "source": [
    "out = 'FGSM'\n",
    "best_auroc, best_result, best_index = 0, 0, 0\n",
    "score = score_list[5]\n",
    "print('load train data: ', out, ' of ', score)\n",
    "total_X, total_Y = lib_regression.load_characteristics(score, dataset, out, outf)\n",
    "X_val, Y_val, X_test, Y_test = lib_regression.block_split_adv(total_X, total_Y)\n",
    "pivot = int(X_val.shape[0] / 6)\n",
    "X_train = np.concatenate((X_val[:pivot], X_val[2*pivot:3*pivot], X_val[4*pivot:5*pivot]))\n",
    "Y_train = np.concatenate((Y_val[:pivot], Y_val[2*pivot:3*pivot], Y_val[4*pivot:5*pivot]))\n",
    "X_val_for_test = np.concatenate((X_val[pivot:2*pivot], X_val[3*pivot:4*pivot], X_val[5*pivot:]))\n",
    "Y_val_for_test = np.concatenate((Y_val[pivot:2*pivot], Y_val[3*pivot:4*pivot], Y_val[5*pivot:]))\n",
    "lr = LogisticRegressionCV(n_jobs=-1).fit(X_train, Y_train)\n",
    "y_pred = lr.predict_proba(X_train)[:, 1]\n",
    "#print('training mse: {:.4f}'.format(np.mean(y_pred - Y_train)))\n",
    "y_pred = lr.predict_proba(X_val_for_test)[:, 1]\n",
    "#print('test mse: {:.4f}'.format(np.mean(y_pred - Y_val_for_test)))\n",
    "results = lib_regression.detection_performance(lr, X_val_for_test, Y_val_for_test, outf)\n",
    "if best_auroc < results['TMP']['AUROC']:\n",
    "    best_auroc = results['TMP']['AUROC']\n",
    "    best_index = score\n",
    "    best_result = lib_regression.detection_performance(lr, X_test, Y_test, outf)\n",
    "list_best_results_out.append(best_result)\n",
    "list_best_results_index_out.append(best_index)"
   ]
  },
  {
   "cell_type": "code",
   "execution_count": 20,
   "metadata": {
    "ExecuteTime": {
     "end_time": "2019-08-02T14:32:20.632279Z",
     "start_time": "2019-08-02T14:32:20.626426Z"
    }
   },
   "outputs": [
    {
     "data": {
      "text/plain": [
       "(420, 4)"
      ]
     },
     "execution_count": 20,
     "metadata": {},
     "output_type": "execute_result"
    }
   ],
   "source": [
    "X_val_for_test.shape"
   ]
  },
  {
   "cell_type": "code",
   "execution_count": 21,
   "metadata": {
    "ExecuteTime": {
     "end_time": "2019-08-02T14:32:21.940805Z",
     "start_time": "2019-08-02T14:32:21.935149Z"
    }
   },
   "outputs": [
    {
     "data": {
      "text/plain": [
       "[{'TMP': {'AUIN': 0.99990079365079365,\n",
       "   'AUOUT': 0.9998015873015873,\n",
       "   'AUROC': 1.0,\n",
       "   'DTACC': 1.0,\n",
       "   'TNR': 1.0}}]"
      ]
     },
     "execution_count": 21,
     "metadata": {},
     "output_type": "execute_result"
    }
   ],
   "source": [
    "list_best_results_out"
   ]
  },
  {
   "cell_type": "code",
   "execution_count": 22,
   "metadata": {
    "ExecuteTime": {
     "end_time": "2019-08-02T14:32:23.953579Z",
     "start_time": "2019-08-02T14:32:23.865485Z"
    }
   },
   "outputs": [
    {
     "name": "stdout",
     "output_type": "stream",
     "text": [
      "test mse: -0.5000\n"
     ]
    },
    {
     "data": {
      "text/plain": [
       "{'TMP': {'AUIN': 0.37303626869953449,\n",
       "  'AUOUT': 0.37071534775087356,\n",
       "  'AUROC': 0.28474323979591837,\n",
       "  'DTACC': 0.5,\n",
       "  'TNR': 0.0053571428571428381}}"
      ]
     },
     "execution_count": 22,
     "metadata": {},
     "output_type": "execute_result"
    }
   ],
   "source": [
    "y_pred = lr.predict_proba(X_CW)[:, 1]\n",
    "print('test mse: {:.4f}'.format(np.mean(y_pred - y_CW)))\n",
    "results = lib_regression.detection_performance(lr, X_CW, y_CW, outf)\n",
    "results"
   ]
  },
  {
   "cell_type": "code",
   "execution_count": null,
   "metadata": {
    "collapsed": true
   },
   "outputs": [],
   "source": []
  },
  {
   "cell_type": "code",
   "execution_count": null,
   "metadata": {
    "collapsed": true
   },
   "outputs": [],
   "source": []
  },
  {
   "cell_type": "code",
   "execution_count": null,
   "metadata": {
    "collapsed": true
   },
   "outputs": [],
   "source": []
  },
  {
   "cell_type": "code",
   "execution_count": null,
   "metadata": {
    "collapsed": true
   },
   "outputs": [],
   "source": []
  },
  {
   "cell_type": "code",
   "execution_count": null,
   "metadata": {
    "collapsed": true
   },
   "outputs": [],
   "source": []
  },
  {
   "cell_type": "code",
   "execution_count": null,
   "metadata": {
    "collapsed": true
   },
   "outputs": [],
   "source": []
  },
  {
   "cell_type": "code",
   "execution_count": null,
   "metadata": {
    "collapsed": true
   },
   "outputs": [],
   "source": []
  },
  {
   "cell_type": "code",
   "execution_count": null,
   "metadata": {
    "collapsed": true
   },
   "outputs": [],
   "source": []
  },
  {
   "cell_type": "code",
   "execution_count": null,
   "metadata": {
    "collapsed": true
   },
   "outputs": [],
   "source": []
  },
  {
   "cell_type": "code",
   "execution_count": null,
   "metadata": {
    "collapsed": true
   },
   "outputs": [],
   "source": [
    "\n",
    "count_in = 0\n",
    "print(\"results of Mahalanobis\")\n",
    "for in_list in list_best_results_ours:\n",
    "    print('in_distribution: ' + dataset_list[count_in] + '==========')\n",
    "    count_out = 0\n",
    "    for results in in_list:\n",
    "        print('out_distribution: '+ adv_test_list[count_out])\n",
    "        for mtype in mtypes:\n",
    "            print(' {mtype:6s}'.format(mtype=mtype), end='')\n",
    "        print('\\n{val:6.2f}'.format(val=100.*results['TMP']['TNR']), end='')\n",
    "        print(' {val:6.2f}'.format(val=100.*results['TMP']['AUROC']), end='')\n",
    "        print(' {val:6.2f}'.format(val=100.*results['TMP']['DTACC']), end='')\n",
    "        print(' {val:6.2f}'.format(val=100.*results['TMP']['AUIN']), end='')\n",
    "        print(' {val:6.2f}\\n'.format(val=100.*results['TMP']['AUOUT']), end='')\n",
    "        print('Input noise: ' + list_best_results_index_ours[count_in][count_out])\n",
    "        print('')\n",
    "        count_out += 1\n",
    "    count_in += 1"
   ]
  },
  {
   "cell_type": "code",
   "execution_count": null,
   "metadata": {
    "collapsed": true
   },
   "outputs": [],
   "source": [
    "# for dataset in dataset_list:\n",
    "#     print('load train data: ', dataset)\n",
    "#     outf = './adv_output/' + args.net_type + '_' + dataset + '/'\n",
    "\n",
    "#     list_best_results_out, list_best_results_index_out = [], []\n",
    "#     for out in adv_test_list:\n",
    "#         best_auroc, best_result, best_index = 0, 0, 0\n",
    "#         for score in score_list:\n",
    "#             print('load train data: ', out, ' of ', score)\n",
    "#             total_X, total_Y = lib_regression.load_characteristics(score, dataset, out, outf)\n",
    "#             X_val, Y_val, X_test, Y_test = lib_regression.block_split_adv(total_X, total_Y)\n",
    "#             pivot = int(X_val.shape[0] / 6)\n",
    "#             X_train = np.concatenate((X_val[:pivot], X_val[2*pivot:3*pivot], X_val[4*pivot:5*pivot]))\n",
    "#             Y_train = np.concatenate((Y_val[:pivot], Y_val[2*pivot:3*pivot], Y_val[4*pivot:5*pivot]))\n",
    "#             X_val_for_test = np.concatenate((X_val[pivot:2*pivot], X_val[3*pivot:4*pivot], X_val[5*pivot:]))\n",
    "#             Y_val_for_test = np.concatenate((Y_val[pivot:2*pivot], Y_val[3*pivot:4*pivot], Y_val[5*pivot:]))\n",
    "#             lr = LogisticRegressionCV(n_jobs=-1).fit(X_train, Y_train)\n",
    "#             y_pred = lr.predict_proba(X_train)[:, 1]\n",
    "#             #print('training mse: {:.4f}'.format(np.mean(y_pred - Y_train)))\n",
    "#             y_pred = lr.predict_proba(X_val_for_test)[:, 1]\n",
    "#             #print('test mse: {:.4f}'.format(np.mean(y_pred - Y_val_for_test)))\n",
    "#             results = lib_regression.detection_performance(lr, X_val_for_test, Y_val_for_test, outf)\n",
    "#             if best_auroc < results['TMP']['AUROC']:\n",
    "#                 best_auroc = results['TMP']['AUROC']\n",
    "#                 best_index = score\n",
    "#                 best_result = lib_regression.detection_performance(lr, X_test, Y_test, outf)\n",
    "#         list_best_results_out.append(best_result)\n",
    "#         list_best_results_index_out.append(best_index)\n",
    "#     list_best_results.append(list_best_results_out)\n",
    "#     list_best_results_index.append(list_best_results_index_out)"
   ]
  }
 ],
 "metadata": {
  "kernelspec": {
   "display_name": "Python 3",
   "language": "python",
   "name": "python3"
  },
  "language_info": {
   "codemirror_mode": {
    "name": "ipython",
    "version": 3
   },
   "file_extension": ".py",
   "mimetype": "text/x-python",
   "name": "python",
   "nbconvert_exporter": "python",
   "pygments_lexer": "ipython3",
   "version": "3.6.3"
  },
  "toc": {
   "base_numbering": 1,
   "nav_menu": {},
   "number_sections": true,
   "sideBar": true,
   "skip_h1_title": false,
   "title_cell": "Table of Contents",
   "title_sidebar": "Contents",
   "toc_cell": false,
   "toc_position": {},
   "toc_section_display": true,
   "toc_window_display": false
  }
 },
 "nbformat": 4,
 "nbformat_minor": 2
}
